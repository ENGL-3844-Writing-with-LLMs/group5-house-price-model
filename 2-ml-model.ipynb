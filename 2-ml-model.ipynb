{
 "cells": [
  {
   "cell_type": "markdown",
   "metadata": {},
   "source": [
    "Housing Price Prediction Data: https://www.kaggle.com/datasets/muhammadbinimran/housing-price-prediction-data/\n",
    "\n",
    "Model Techniques with Dataset: https://www.kaggle.com/code/guanlintao/ml-optuna-eda-housing-price-prediction"
   ]
  },
  {
   "cell_type": "code",
   "execution_count": null,
   "metadata": {},
   "outputs": [],
   "source": []
  }
 ],
 "metadata": {
  "language_info": {
   "name": "python"
  }
 },
 "nbformat": 4,
 "nbformat_minor": 2
}
